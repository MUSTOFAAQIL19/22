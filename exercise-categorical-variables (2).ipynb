{
 "cells": [
  {
   "cell_type": "markdown",
   "id": "27a48b97",
   "metadata": {
    "papermill": {
     "duration": 0.034868,
     "end_time": "2021-08-19T15:04:35.422988",
     "exception": false,
     "start_time": "2021-08-19T15:04:35.388120",
     "status": "completed"
    },
    "tags": []
   },
   "source": [
    "**This notebook is an exercise in the [Intermediate Machine Learning](https://www.kaggle.com/learn/intermediate-machine-learning) course.  You can reference the tutorial at [this link](https://www.kaggle.com/alexisbcook/categorical-variables).**\n",
    "\n",
    "---\n"
   ]
  },
  {
   "cell_type": "markdown",
   "id": "67a8fe15",
   "metadata": {
    "papermill": {
     "duration": 0.036592,
     "end_time": "2021-08-19T15:04:35.495213",
     "exception": false,
     "start_time": "2021-08-19T15:04:35.458621",
     "status": "completed"
    },
    "tags": []
   },
   "source": [
    "By encoding **categorical variables**, you'll obtain your best results thus far!\n",
    "\n",
    "# Setup\n",
    "\n",
    "The questions below will give you feedback on your work. Run the following cell to set up the feedback system."
   ]
  },
  {
   "cell_type": "code",
   "execution_count": 1,
   "id": "9344f924",
   "metadata": {
    "execution": {
     "iopub.execute_input": "2021-08-19T15:04:35.582604Z",
     "iopub.status.busy": "2021-08-19T15:04:35.581960Z",
     "iopub.status.idle": "2021-08-19T15:04:35.697778Z",
     "shell.execute_reply": "2021-08-19T15:04:35.698467Z",
     "shell.execute_reply.started": "2021-08-19T14:59:54.359579Z"
    },
    "papermill": {
     "duration": 0.166705,
     "end_time": "2021-08-19T15:04:35.698882",
     "exception": false,
     "start_time": "2021-08-19T15:04:35.532177",
     "status": "completed"
    },
    "tags": []
   },
   "outputs": [
    {
     "name": "stdout",
     "output_type": "stream",
     "text": [
      "Setup Complete\n"
     ]
    }
   ],
   "source": [
    "# Set up code checking\n",
    "import os\n",
    "if not os.path.exists(\"../input/train.csv\"):\n",
    "    os.symlink(\"../input/home-data-for-ml-course/train.csv\", \"../input/train.csv\")  \n",
    "    os.symlink(\"../input/home-data-for-ml-course/test.csv\", \"../input/test.csv\") \n",
    "from learntools.core import binder\n",
    "binder.bind(globals())\n",
    "from learntools.ml_intermediate.ex3 import *\n",
    "print(\"Setup Complete\")"
   ]
  },
  {
   "cell_type": "markdown",
   "id": "e00ed700",
   "metadata": {
    "papermill": {
     "duration": 0.034169,
     "end_time": "2021-08-19T15:04:35.771727",
     "exception": false,
     "start_time": "2021-08-19T15:04:35.737558",
     "status": "completed"
    },
    "tags": []
   },
   "source": [
    "In this exercise, you will work with data from the [Housing Prices Competition for Kaggle Learn Users](https://www.kaggle.com/c/home-data-for-ml-course). \n",
    "\n",
    "![Ames Housing dataset image](https://i.imgur.com/lTJVG4e.png)\n",
    "\n",
    "Run the next code cell without changes to load the training and validation sets in `X_train`, `X_valid`, `y_train`, and `y_valid`.  The test set is loaded in `X_test`."
   ]
  },
  {
   "cell_type": "code",
   "execution_count": 2,
   "id": "1812f2c4",
   "metadata": {
    "execution": {
     "iopub.execute_input": "2021-08-19T15:04:35.849089Z",
     "iopub.status.busy": "2021-08-19T15:04:35.848319Z",
     "iopub.status.idle": "2021-08-19T15:04:36.809863Z",
     "shell.execute_reply": "2021-08-19T15:04:36.809187Z",
     "shell.execute_reply.started": "2021-08-19T14:59:54.499044Z"
    },
    "papermill": {
     "duration": 1.001422,
     "end_time": "2021-08-19T15:04:36.809981",
     "exception": false,
     "start_time": "2021-08-19T15:04:35.808559",
     "status": "completed"
    },
    "tags": []
   },
   "outputs": [],
   "source": [
    "import pandas as pd\n",
    "from sklearn.model_selection import train_test_split\n",
    "\n",
    "# Read the data\n",
    "X = pd.read_csv('../input/train.csv', index_col='Id') \n",
    "X_test = pd.read_csv('../input/test.csv', index_col='Id')\n",
    "\n",
    "# Remove rows with missing target, separate target from predictors\n",
    "X.dropna(axis=0, subset=['SalePrice'], inplace=True)\n",
    "y = X.SalePrice\n",
    "X.drop(['SalePrice'], axis=1, inplace=True)\n",
    "\n",
    "# To keep things simple, we'll drop columns with missing values\n",
    "cols_with_missing = [col for col in X.columns if X[col].isnull().any()] \n",
    "X.drop(cols_with_missing, axis=1, inplace=True)\n",
    "X_test.drop(cols_with_missing, axis=1, inplace=True)\n",
    "\n",
    "# Break off validation set from training data\n",
    "X_train, X_valid, y_train, y_valid = train_test_split(X, y,\n",
    "                                                      train_size=0.8, test_size=0.2,\n",
    "                                                      random_state=0)"
   ]
  },
  {
   "cell_type": "markdown",
   "id": "16c42c48",
   "metadata": {
    "papermill": {
     "duration": 0.034418,
     "end_time": "2021-08-19T15:04:36.878937",
     "exception": false,
     "start_time": "2021-08-19T15:04:36.844519",
     "status": "completed"
    },
    "tags": []
   },
   "source": [
    "Use the next code cell to print the first five rows of the data."
   ]
  },
  {
   "cell_type": "code",
   "execution_count": 3,
   "id": "3c2c7af0",
   "metadata": {
    "execution": {
     "iopub.execute_input": "2021-08-19T15:04:36.963534Z",
     "iopub.status.busy": "2021-08-19T15:04:36.962682Z",
     "iopub.status.idle": "2021-08-19T15:04:36.990417Z",
     "shell.execute_reply": "2021-08-19T15:04:36.989748Z",
     "shell.execute_reply.started": "2021-08-19T14:59:57.006596Z"
    },
    "papermill": {
     "duration": 0.076741,
     "end_time": "2021-08-19T15:04:36.990549",
     "exception": false,
     "start_time": "2021-08-19T15:04:36.913808",
     "status": "completed"
    },
    "tags": []
   },
   "outputs": [
    {
     "data": {
      "text/html": [
       "<div>\n",
       "<style scoped>\n",
       "    .dataframe tbody tr th:only-of-type {\n",
       "        vertical-align: middle;\n",
       "    }\n",
       "\n",
       "    .dataframe tbody tr th {\n",
       "        vertical-align: top;\n",
       "    }\n",
       "\n",
       "    .dataframe thead th {\n",
       "        text-align: right;\n",
       "    }\n",
       "</style>\n",
       "<table border=\"1\" class=\"dataframe\">\n",
       "  <thead>\n",
       "    <tr style=\"text-align: right;\">\n",
       "      <th></th>\n",
       "      <th>MSSubClass</th>\n",
       "      <th>MSZoning</th>\n",
       "      <th>LotArea</th>\n",
       "      <th>Street</th>\n",
       "      <th>LotShape</th>\n",
       "      <th>LandContour</th>\n",
       "      <th>Utilities</th>\n",
       "      <th>LotConfig</th>\n",
       "      <th>LandSlope</th>\n",
       "      <th>Neighborhood</th>\n",
       "      <th>...</th>\n",
       "      <th>OpenPorchSF</th>\n",
       "      <th>EnclosedPorch</th>\n",
       "      <th>3SsnPorch</th>\n",
       "      <th>ScreenPorch</th>\n",
       "      <th>PoolArea</th>\n",
       "      <th>MiscVal</th>\n",
       "      <th>MoSold</th>\n",
       "      <th>YrSold</th>\n",
       "      <th>SaleType</th>\n",
       "      <th>SaleCondition</th>\n",
       "    </tr>\n",
       "    <tr>\n",
       "      <th>Id</th>\n",
       "      <th></th>\n",
       "      <th></th>\n",
       "      <th></th>\n",
       "      <th></th>\n",
       "      <th></th>\n",
       "      <th></th>\n",
       "      <th></th>\n",
       "      <th></th>\n",
       "      <th></th>\n",
       "      <th></th>\n",
       "      <th></th>\n",
       "      <th></th>\n",
       "      <th></th>\n",
       "      <th></th>\n",
       "      <th></th>\n",
       "      <th></th>\n",
       "      <th></th>\n",
       "      <th></th>\n",
       "      <th></th>\n",
       "      <th></th>\n",
       "      <th></th>\n",
       "    </tr>\n",
       "  </thead>\n",
       "  <tbody>\n",
       "    <tr>\n",
       "      <th>619</th>\n",
       "      <td>20</td>\n",
       "      <td>RL</td>\n",
       "      <td>11694</td>\n",
       "      <td>Pave</td>\n",
       "      <td>Reg</td>\n",
       "      <td>Lvl</td>\n",
       "      <td>AllPub</td>\n",
       "      <td>Inside</td>\n",
       "      <td>Gtl</td>\n",
       "      <td>NridgHt</td>\n",
       "      <td>...</td>\n",
       "      <td>108</td>\n",
       "      <td>0</td>\n",
       "      <td>0</td>\n",
       "      <td>260</td>\n",
       "      <td>0</td>\n",
       "      <td>0</td>\n",
       "      <td>7</td>\n",
       "      <td>2007</td>\n",
       "      <td>New</td>\n",
       "      <td>Partial</td>\n",
       "    </tr>\n",
       "    <tr>\n",
       "      <th>871</th>\n",
       "      <td>20</td>\n",
       "      <td>RL</td>\n",
       "      <td>6600</td>\n",
       "      <td>Pave</td>\n",
       "      <td>Reg</td>\n",
       "      <td>Lvl</td>\n",
       "      <td>AllPub</td>\n",
       "      <td>Inside</td>\n",
       "      <td>Gtl</td>\n",
       "      <td>NAmes</td>\n",
       "      <td>...</td>\n",
       "      <td>0</td>\n",
       "      <td>0</td>\n",
       "      <td>0</td>\n",
       "      <td>0</td>\n",
       "      <td>0</td>\n",
       "      <td>0</td>\n",
       "      <td>8</td>\n",
       "      <td>2009</td>\n",
       "      <td>WD</td>\n",
       "      <td>Normal</td>\n",
       "    </tr>\n",
       "    <tr>\n",
       "      <th>93</th>\n",
       "      <td>30</td>\n",
       "      <td>RL</td>\n",
       "      <td>13360</td>\n",
       "      <td>Pave</td>\n",
       "      <td>IR1</td>\n",
       "      <td>HLS</td>\n",
       "      <td>AllPub</td>\n",
       "      <td>Inside</td>\n",
       "      <td>Gtl</td>\n",
       "      <td>Crawfor</td>\n",
       "      <td>...</td>\n",
       "      <td>0</td>\n",
       "      <td>44</td>\n",
       "      <td>0</td>\n",
       "      <td>0</td>\n",
       "      <td>0</td>\n",
       "      <td>0</td>\n",
       "      <td>8</td>\n",
       "      <td>2009</td>\n",
       "      <td>WD</td>\n",
       "      <td>Normal</td>\n",
       "    </tr>\n",
       "    <tr>\n",
       "      <th>818</th>\n",
       "      <td>20</td>\n",
       "      <td>RL</td>\n",
       "      <td>13265</td>\n",
       "      <td>Pave</td>\n",
       "      <td>IR1</td>\n",
       "      <td>Lvl</td>\n",
       "      <td>AllPub</td>\n",
       "      <td>CulDSac</td>\n",
       "      <td>Gtl</td>\n",
       "      <td>Mitchel</td>\n",
       "      <td>...</td>\n",
       "      <td>59</td>\n",
       "      <td>0</td>\n",
       "      <td>0</td>\n",
       "      <td>0</td>\n",
       "      <td>0</td>\n",
       "      <td>0</td>\n",
       "      <td>7</td>\n",
       "      <td>2008</td>\n",
       "      <td>WD</td>\n",
       "      <td>Normal</td>\n",
       "    </tr>\n",
       "    <tr>\n",
       "      <th>303</th>\n",
       "      <td>20</td>\n",
       "      <td>RL</td>\n",
       "      <td>13704</td>\n",
       "      <td>Pave</td>\n",
       "      <td>IR1</td>\n",
       "      <td>Lvl</td>\n",
       "      <td>AllPub</td>\n",
       "      <td>Corner</td>\n",
       "      <td>Gtl</td>\n",
       "      <td>CollgCr</td>\n",
       "      <td>...</td>\n",
       "      <td>81</td>\n",
       "      <td>0</td>\n",
       "      <td>0</td>\n",
       "      <td>0</td>\n",
       "      <td>0</td>\n",
       "      <td>0</td>\n",
       "      <td>1</td>\n",
       "      <td>2006</td>\n",
       "      <td>WD</td>\n",
       "      <td>Normal</td>\n",
       "    </tr>\n",
       "  </tbody>\n",
       "</table>\n",
       "<p>5 rows × 60 columns</p>\n",
       "</div>"
      ],
      "text/plain": [
       "     MSSubClass MSZoning  LotArea Street LotShape LandContour Utilities  \\\n",
       "Id                                                                        \n",
       "619          20       RL    11694   Pave      Reg         Lvl    AllPub   \n",
       "871          20       RL     6600   Pave      Reg         Lvl    AllPub   \n",
       "93           30       RL    13360   Pave      IR1         HLS    AllPub   \n",
       "818          20       RL    13265   Pave      IR1         Lvl    AllPub   \n",
       "303          20       RL    13704   Pave      IR1         Lvl    AllPub   \n",
       "\n",
       "    LotConfig LandSlope Neighborhood  ... OpenPorchSF EnclosedPorch 3SsnPorch  \\\n",
       "Id                                    ...                                       \n",
       "619    Inside       Gtl      NridgHt  ...         108             0         0   \n",
       "871    Inside       Gtl        NAmes  ...           0             0         0   \n",
       "93     Inside       Gtl      Crawfor  ...           0            44         0   \n",
       "818   CulDSac       Gtl      Mitchel  ...          59             0         0   \n",
       "303    Corner       Gtl      CollgCr  ...          81             0         0   \n",
       "\n",
       "    ScreenPorch  PoolArea  MiscVal  MoSold  YrSold SaleType SaleCondition  \n",
       "Id                                                                         \n",
       "619         260         0        0       7    2007      New       Partial  \n",
       "871           0         0        0       8    2009       WD        Normal  \n",
       "93            0         0        0       8    2009       WD        Normal  \n",
       "818           0         0        0       7    2008       WD        Normal  \n",
       "303           0         0        0       1    2006       WD        Normal  \n",
       "\n",
       "[5 rows x 60 columns]"
      ]
     },
     "execution_count": 3,
     "metadata": {},
     "output_type": "execute_result"
    }
   ],
   "source": [
    "X_train.head()"
   ]
  },
  {
   "cell_type": "markdown",
   "id": "f51423c7",
   "metadata": {
    "papermill": {
     "duration": 0.039691,
     "end_time": "2021-08-19T15:04:37.064136",
     "exception": false,
     "start_time": "2021-08-19T15:04:37.024445",
     "status": "completed"
    },
    "tags": []
   },
   "source": [
    "Notice that the dataset contains both numerical and categorical variables.  You'll need to encode the categorical data before training a model.\n",
    "\n",
    "To compare different models, you'll use the same `score_dataset()` function from the tutorial.  This function reports the [mean absolute error](https://en.wikipedia.org/wiki/Mean_absolute_error) (MAE) from a random forest model."
   ]
  },
  {
   "cell_type": "code",
   "execution_count": 4,
   "id": "f0c6120a",
   "metadata": {
    "execution": {
     "iopub.execute_input": "2021-08-19T15:04:37.141126Z",
     "iopub.status.busy": "2021-08-19T15:04:37.140356Z",
     "iopub.status.idle": "2021-08-19T15:04:37.318958Z",
     "shell.execute_reply": "2021-08-19T15:04:37.319853Z",
     "shell.execute_reply.started": "2021-08-19T15:00:01.411969Z"
    },
    "papermill": {
     "duration": 0.220792,
     "end_time": "2021-08-19T15:04:37.320016",
     "exception": false,
     "start_time": "2021-08-19T15:04:37.099224",
     "status": "completed"
    },
    "tags": []
   },
   "outputs": [],
   "source": [
    "from sklearn.ensemble import RandomForestRegressor\n",
    "from sklearn.metrics import mean_absolute_error\n",
    "\n",
    "# function for comparing different approaches\n",
    "def score_dataset(X_train, X_valid, y_train, y_valid):\n",
    "    model = RandomForestRegressor(n_estimators=100, random_state=0)\n",
    "    model.fit(X_train, y_train)\n",
    "    preds = model.predict(X_valid)\n",
    "    return mean_absolute_error(y_valid, preds)"
   ]
  },
  {
   "cell_type": "markdown",
   "id": "a8412bb3",
   "metadata": {
    "papermill": {
     "duration": 0.034265,
     "end_time": "2021-08-19T15:04:37.388004",
     "exception": false,
     "start_time": "2021-08-19T15:04:37.353739",
     "status": "completed"
    },
    "tags": []
   },
   "source": [
    "# Step 1: Drop columns with categorical data\n",
    "\n",
    "You'll get started with the most straightforward approach.  Use the code cell below to preprocess the data in `X_train` and `X_valid` to remove columns with categorical data.  Set the preprocessed DataFrames to `drop_X_train` and `drop_X_valid`, respectively.  "
   ]
  },
  {
   "cell_type": "code",
   "execution_count": 5,
   "id": "192ffd93",
   "metadata": {
    "execution": {
     "iopub.execute_input": "2021-08-19T15:04:37.466896Z",
     "iopub.status.busy": "2021-08-19T15:04:37.465986Z",
     "iopub.status.idle": "2021-08-19T15:04:37.471619Z",
     "shell.execute_reply": "2021-08-19T15:04:37.471178Z",
     "shell.execute_reply.started": "2021-08-19T15:00:07.118072Z"
    },
    "papermill": {
     "duration": 0.049129,
     "end_time": "2021-08-19T15:04:37.471743",
     "exception": false,
     "start_time": "2021-08-19T15:04:37.422614",
     "status": "completed"
    },
    "tags": []
   },
   "outputs": [
    {
     "data": {
      "application/javascript": [
       "parent.postMessage({\"jupyterEvent\": \"custom.exercise_interaction\", \"data\": {\"outcomeType\": 1, \"valueTowardsCompletion\": 0.5, \"interactionType\": 1, \"questionType\": 2, \"questionId\": \"1_Drop\", \"learnToolsVersion\": \"0.3.4\", \"failureMessage\": \"\", \"exceptionClass\": \"\", \"trace\": \"\"}}, \"*\")"
      ],
      "text/plain": [
       "<IPython.core.display.Javascript object>"
      ]
     },
     "metadata": {},
     "output_type": "display_data"
    },
    {
     "data": {
      "text/markdown": [
       "<span style=\"color:#33cc33\">Correct</span>"
      ],
      "text/plain": [
       "Correct"
      ]
     },
     "metadata": {},
     "output_type": "display_data"
    }
   ],
   "source": [
    "# Fill in the lines below: drop columns in training and validation data\n",
    "s = (X_train.dtypes == 'object')\n",
    "object_cols = list(s[s].index)\n",
    "drop_X_train = X_train.drop(object_cols, axis=1)\n",
    "drop_X_valid = X_valid.drop(object_cols, axis=1)\n",
    "\n",
    "# Check your answers\n",
    "step_1.check()"
   ]
  },
  {
   "cell_type": "code",
   "execution_count": 6,
   "id": "a528e1a7",
   "metadata": {
    "execution": {
     "iopub.execute_input": "2021-08-19T15:04:37.570909Z",
     "iopub.status.busy": "2021-08-19T15:04:37.569347Z",
     "iopub.status.idle": "2021-08-19T15:04:37.571654Z",
     "shell.execute_reply": "2021-08-19T15:04:37.570142Z"
    },
    "papermill": {
     "duration": 0.057597,
     "end_time": "2021-08-19T15:04:37.571815",
     "exception": false,
     "start_time": "2021-08-19T15:04:37.514218",
     "status": "completed"
    },
    "tags": []
   },
   "outputs": [],
   "source": [
    "# Lines below will give you a hint or solution code\n",
    "#step_1.hint()\n",
    "#step_1.solution()"
   ]
  },
  {
   "cell_type": "markdown",
   "id": "a0e9ada1",
   "metadata": {
    "papermill": {
     "duration": 0.039204,
     "end_time": "2021-08-19T15:04:37.665063",
     "exception": false,
     "start_time": "2021-08-19T15:04:37.625859",
     "status": "completed"
    },
    "tags": []
   },
   "source": [
    "Run the next code cell to get the MAE for this approach."
   ]
  },
  {
   "cell_type": "code",
   "execution_count": 7,
   "id": "2a04e28a",
   "metadata": {
    "execution": {
     "iopub.execute_input": "2021-08-19T15:04:37.738675Z",
     "iopub.status.busy": "2021-08-19T15:04:37.737822Z",
     "iopub.status.idle": "2021-08-19T15:04:38.840753Z",
     "shell.execute_reply": "2021-08-19T15:04:38.841207Z",
     "shell.execute_reply.started": "2021-08-19T15:00:14.263613Z"
    },
    "papermill": {
     "duration": 1.141233,
     "end_time": "2021-08-19T15:04:38.841362",
     "exception": false,
     "start_time": "2021-08-19T15:04:37.700129",
     "status": "completed"
    },
    "tags": []
   },
   "outputs": [
    {
     "name": "stdout",
     "output_type": "stream",
     "text": [
      "MAE from Approach 1 (Drop categorical variables):\n",
      "17837.82570776256\n"
     ]
    }
   ],
   "source": [
    "print(\"MAE from Approach 1 (Drop categorical variables):\")\n",
    "print(score_dataset(drop_X_train, drop_X_valid, y_train, y_valid))"
   ]
  },
  {
   "cell_type": "markdown",
   "id": "49752e12",
   "metadata": {
    "papermill": {
     "duration": 0.034172,
     "end_time": "2021-08-19T15:04:38.910129",
     "exception": false,
     "start_time": "2021-08-19T15:04:38.875957",
     "status": "completed"
    },
    "tags": []
   },
   "source": [
    "Before jumping into ordinal encoding, we'll investigate the dataset.  Specifically, we'll look at the `'Condition2'` column.  The code cell below prints the unique entries in both the training and validation sets."
   ]
  },
  {
   "cell_type": "code",
   "execution_count": 8,
   "id": "f63a6ac6",
   "metadata": {
    "execution": {
     "iopub.execute_input": "2021-08-19T15:04:38.988554Z",
     "iopub.status.busy": "2021-08-19T15:04:38.987961Z",
     "iopub.status.idle": "2021-08-19T15:04:38.990533Z",
     "shell.execute_reply": "2021-08-19T15:04:38.991110Z",
     "shell.execute_reply.started": "2021-08-19T15:00:16.945448Z"
    },
    "papermill": {
     "duration": 0.045309,
     "end_time": "2021-08-19T15:04:38.991260",
     "exception": false,
     "start_time": "2021-08-19T15:04:38.945951",
     "status": "completed"
    },
    "tags": []
   },
   "outputs": [
    {
     "name": "stdout",
     "output_type": "stream",
     "text": [
      "Unique values in 'Condition2' column in training data: ['Norm' 'PosA' 'Feedr' 'PosN' 'Artery' 'RRAe']\n",
      "\n",
      "Unique values in 'Condition2' column in validation data: ['Norm' 'RRAn' 'RRNn' 'Artery' 'Feedr' 'PosN']\n"
     ]
    }
   ],
   "source": [
    "print(\"Unique values in 'Condition2' column in training data:\", X_train['Condition2'].unique())\n",
    "print(\"\\nUnique values in 'Condition2' column in validation data:\", X_valid['Condition2'].unique())"
   ]
  },
  {
   "cell_type": "markdown",
   "id": "2d8abb01",
   "metadata": {
    "papermill": {
     "duration": 0.034931,
     "end_time": "2021-08-19T15:04:39.062222",
     "exception": false,
     "start_time": "2021-08-19T15:04:39.027291",
     "status": "completed"
    },
    "tags": []
   },
   "source": [
    "# Step 2: Ordinal encoding\n",
    "\n",
    "### Part A\n",
    "\n",
    "If you now write code to: \n",
    "- fit an ordinal encoder to the training data, and then \n",
    "- use it to transform both the training and validation data, \n",
    "\n",
    "you'll get an error.  Can you see why this is the case?  (_You'll need  to use the above output to answer this question._)"
   ]
  },
  {
   "cell_type": "code",
   "execution_count": 9,
   "id": "24fcdda4",
   "metadata": {
    "execution": {
     "iopub.execute_input": "2021-08-19T15:04:39.135801Z",
     "iopub.status.busy": "2021-08-19T15:04:39.135260Z",
     "iopub.status.idle": "2021-08-19T15:04:39.142448Z",
     "shell.execute_reply": "2021-08-19T15:04:39.142009Z",
     "shell.execute_reply.started": "2021-08-19T15:00:22.047399Z"
    },
    "papermill": {
     "duration": 0.045518,
     "end_time": "2021-08-19T15:04:39.142564",
     "exception": false,
     "start_time": "2021-08-19T15:04:39.097046",
     "status": "completed"
    },
    "tags": []
   },
   "outputs": [
    {
     "data": {
      "application/javascript": [
       "parent.postMessage({\"jupyterEvent\": \"custom.exercise_interaction\", \"data\": {\"outcomeType\": 1, \"valueTowardsCompletion\": 0.5, \"interactionType\": 1, \"questionType\": 4, \"questionId\": \"2.1_LabelA\", \"learnToolsVersion\": \"0.3.4\", \"failureMessage\": \"\", \"exceptionClass\": \"\", \"trace\": \"\"}}, \"*\")"
      ],
      "text/plain": [
       "<IPython.core.display.Javascript object>"
      ]
     },
     "metadata": {},
     "output_type": "display_data"
    },
    {
     "data": {
      "text/markdown": [
       "<span style=\"color:#33cc33\">Correct:</span> \n",
       "\n",
       "Fitting an ordinal encoder to a column in the training data creates a corresponding integer-valued label for each unique value **that appears in the training data**. In the case that the validation data contains values that don't also appear in the training data, the encoder will throw an error, because these values won't have an integer assigned to them.  Notice that the `'Condition2'` column in the validation data contains the values `'RRAn'` and `'RRNn'`, but these don't appear in the training data -- thus, if we try to use an ordinal encoder with scikit-learn, the code will throw an error."
      ],
      "text/plain": [
       "Correct: \n",
       "\n",
       "Fitting an ordinal encoder to a column in the training data creates a corresponding integer-valued label for each unique value **that appears in the training data**. In the case that the validation data contains values that don't also appear in the training data, the encoder will throw an error, because these values won't have an integer assigned to them.  Notice that the `'Condition2'` column in the validation data contains the values `'RRAn'` and `'RRNn'`, but these don't appear in the training data -- thus, if we try to use an ordinal encoder with scikit-learn, the code will throw an error."
      ]
     },
     "metadata": {},
     "output_type": "display_data"
    }
   ],
   "source": [
    "# Check your answer (Run this code cell to receive credit!)\n",
    "step_2.a.check()"
   ]
  },
  {
   "cell_type": "code",
   "execution_count": 10,
   "id": "ee84f987",
   "metadata": {
    "execution": {
     "iopub.execute_input": "2021-08-19T15:04:39.221255Z",
     "iopub.status.busy": "2021-08-19T15:04:39.220640Z",
     "iopub.status.idle": "2021-08-19T15:04:39.223187Z",
     "shell.execute_reply": "2021-08-19T15:04:39.222605Z"
    },
    "papermill": {
     "duration": 0.04341,
     "end_time": "2021-08-19T15:04:39.223309",
     "exception": false,
     "start_time": "2021-08-19T15:04:39.179899",
     "status": "completed"
    },
    "tags": []
   },
   "outputs": [],
   "source": [
    "#step_2.a.hint()"
   ]
  },
  {
   "cell_type": "markdown",
   "id": "fc0ab4d1",
   "metadata": {
    "papermill": {
     "duration": 0.036714,
     "end_time": "2021-08-19T15:04:39.296944",
     "exception": false,
     "start_time": "2021-08-19T15:04:39.260230",
     "status": "completed"
    },
    "tags": []
   },
   "source": [
    "This is a common problem that you'll encounter with real-world data, and there are many approaches to fixing this issue.  For instance, you can write a custom ordinal encoder to deal with new categories.  The simplest approach, however, is to drop the problematic categorical columns.  \n",
    "\n",
    "Run the code cell below to save the problematic columns to a Python list `bad_label_cols`.  Likewise, columns that can be safely ordinal encoded are stored in `good_label_cols`."
   ]
  },
  {
   "cell_type": "code",
   "execution_count": 11,
   "id": "88bc0f2d",
   "metadata": {
    "execution": {
     "iopub.execute_input": "2021-08-19T15:04:39.372039Z",
     "iopub.status.busy": "2021-08-19T15:04:39.371492Z",
     "iopub.status.idle": "2021-08-19T15:04:39.385146Z",
     "shell.execute_reply": "2021-08-19T15:04:39.385532Z",
     "shell.execute_reply.started": "2021-08-19T15:00:26.054729Z"
    },
    "papermill": {
     "duration": 0.052619,
     "end_time": "2021-08-19T15:04:39.385669",
     "exception": false,
     "start_time": "2021-08-19T15:04:39.333050",
     "status": "completed"
    },
    "tags": []
   },
   "outputs": [
    {
     "name": "stdout",
     "output_type": "stream",
     "text": [
      "Categorical columns that will be ordinal encoded: ['MSZoning', 'Street', 'LotShape', 'LandContour', 'Utilities', 'LotConfig', 'LandSlope', 'Neighborhood', 'Condition1', 'BldgType', 'HouseStyle', 'RoofStyle', 'Exterior1st', 'Exterior2nd', 'ExterQual', 'ExterCond', 'Foundation', 'Heating', 'HeatingQC', 'CentralAir', 'KitchenQual', 'PavedDrive', 'SaleType', 'SaleCondition']\n",
      "\n",
      "Categorical columns that will be dropped from the dataset: ['Condition2', 'Functional', 'RoofMatl']\n"
     ]
    }
   ],
   "source": [
    "# Categorical columns in the training data\n",
    "object_cols = [col for col in X_train.columns if X_train[col].dtype == \"object\"]\n",
    "\n",
    "# Columns that can be safely ordinal encoded\n",
    "good_label_cols = [col for col in object_cols if \n",
    "                   set(X_valid[col]).issubset(set(X_train[col]))]\n",
    "        \n",
    "# Problematic columns that will be dropped from the dataset\n",
    "bad_label_cols = list(set(object_cols)-set(good_label_cols))\n",
    "        \n",
    "print('Categorical columns that will be ordinal encoded:', good_label_cols)\n",
    "print('\\nCategorical columns that will be dropped from the dataset:', bad_label_cols)"
   ]
  },
  {
   "cell_type": "markdown",
   "id": "cf9ade92",
   "metadata": {
    "papermill": {
     "duration": 0.036925,
     "end_time": "2021-08-19T15:04:39.459955",
     "exception": false,
     "start_time": "2021-08-19T15:04:39.423030",
     "status": "completed"
    },
    "tags": []
   },
   "source": [
    "### Part B\n",
    "\n",
    "Use the next code cell to ordinal encode the data in `X_train` and `X_valid`.  Set the preprocessed DataFrames to `label_X_train` and `label_X_valid`, respectively.  \n",
    "- We have provided code below to drop the categorical columns in `bad_label_cols` from the dataset. \n",
    "- You should ordinal encode the categorical columns in `good_label_cols`.  "
   ]
  },
  {
   "cell_type": "code",
   "execution_count": 12,
   "id": "dea7a463",
   "metadata": {
    "execution": {
     "iopub.execute_input": "2021-08-19T15:04:39.542484Z",
     "iopub.status.busy": "2021-08-19T15:04:39.541614Z",
     "iopub.status.idle": "2021-08-19T15:04:39.595064Z",
     "shell.execute_reply": "2021-08-19T15:04:39.594657Z",
     "shell.execute_reply.started": "2021-08-19T15:00:29.577637Z"
    },
    "papermill": {
     "duration": 0.097864,
     "end_time": "2021-08-19T15:04:39.595218",
     "exception": false,
     "start_time": "2021-08-19T15:04:39.497354",
     "status": "completed"
    },
    "tags": []
   },
   "outputs": [
    {
     "data": {
      "application/javascript": [
       "parent.postMessage({\"jupyterEvent\": \"custom.exercise_interaction\", \"data\": {\"outcomeType\": 1, \"valueTowardsCompletion\": 0.5, \"interactionType\": 1, \"questionType\": 2, \"questionId\": \"2.2_LabelB\", \"learnToolsVersion\": \"0.3.4\", \"failureMessage\": \"\", \"exceptionClass\": \"\", \"trace\": \"\"}}, \"*\")"
      ],
      "text/plain": [
       "<IPython.core.display.Javascript object>"
      ]
     },
     "metadata": {},
     "output_type": "display_data"
    },
    {
     "data": {
      "text/markdown": [
       "<span style=\"color:#33cc33\">Correct</span>"
      ],
      "text/plain": [
       "Correct"
      ]
     },
     "metadata": {},
     "output_type": "display_data"
    }
   ],
   "source": [
    "from sklearn.preprocessing import OrdinalEncoder\n",
    "\n",
    "# Drop categorical columns that will not be encoded\n",
    "label_X_train = X_train.drop(bad_label_cols, axis=1)\n",
    "label_X_valid = X_valid.drop(bad_label_cols, axis=1)\n",
    "        \n",
    "# Apply ordinal encoder to each column with categorical data\n",
    "ordinal_encoder = OrdinalEncoder()\n",
    "label_X_train[good_label_cols] = ordinal_encoder.fit_transform(label_X_train[good_label_cols])\n",
    "label_X_valid[good_label_cols] = ordinal_encoder.transform(label_X_valid[good_label_cols])\n",
    "    \n",
    "# Check your answer\n",
    "step_2.b.check()"
   ]
  },
  {
   "cell_type": "code",
   "execution_count": 13,
   "id": "ea9b514e",
   "metadata": {
    "execution": {
     "iopub.execute_input": "2021-08-19T15:04:39.693818Z",
     "iopub.status.busy": "2021-08-19T15:04:39.693301Z",
     "iopub.status.idle": "2021-08-19T15:04:39.697461Z",
     "shell.execute_reply": "2021-08-19T15:04:39.697887Z",
     "shell.execute_reply.started": "2021-08-19T15:00:32.978056Z"
    },
    "papermill": {
     "duration": 0.064618,
     "end_time": "2021-08-19T15:04:39.698017",
     "exception": false,
     "start_time": "2021-08-19T15:04:39.633399",
     "status": "completed"
    },
    "tags": []
   },
   "outputs": [
    {
     "name": "stdout",
     "output_type": "stream",
     "text": [
      "<class 'pandas.core.frame.DataFrame'>\n",
      "Int64Index: 292 entries, 530 to 62\n",
      "Data columns (total 57 columns):\n",
      " #   Column         Non-Null Count  Dtype  \n",
      "---  ------         --------------  -----  \n",
      " 0   MSSubClass     292 non-null    int64  \n",
      " 1   MSZoning       292 non-null    float64\n",
      " 2   LotArea        292 non-null    int64  \n",
      " 3   Street         292 non-null    float64\n",
      " 4   LotShape       292 non-null    float64\n",
      " 5   LandContour    292 non-null    float64\n",
      " 6   Utilities      292 non-null    float64\n",
      " 7   LotConfig      292 non-null    float64\n",
      " 8   LandSlope      292 non-null    float64\n",
      " 9   Neighborhood   292 non-null    float64\n",
      " 10  Condition1     292 non-null    float64\n",
      " 11  BldgType       292 non-null    float64\n",
      " 12  HouseStyle     292 non-null    float64\n",
      " 13  OverallQual    292 non-null    int64  \n",
      " 14  OverallCond    292 non-null    int64  \n",
      " 15  YearBuilt      292 non-null    int64  \n",
      " 16  YearRemodAdd   292 non-null    int64  \n",
      " 17  RoofStyle      292 non-null    float64\n",
      " 18  Exterior1st    292 non-null    float64\n",
      " 19  Exterior2nd    292 non-null    float64\n",
      " 20  ExterQual      292 non-null    float64\n",
      " 21  ExterCond      292 non-null    float64\n",
      " 22  Foundation     292 non-null    float64\n",
      " 23  BsmtFinSF1     292 non-null    int64  \n",
      " 24  BsmtFinSF2     292 non-null    int64  \n",
      " 25  BsmtUnfSF      292 non-null    int64  \n",
      " 26  TotalBsmtSF    292 non-null    int64  \n",
      " 27  Heating        292 non-null    float64\n",
      " 28  HeatingQC      292 non-null    float64\n",
      " 29  CentralAir     292 non-null    float64\n",
      " 30  1stFlrSF       292 non-null    int64  \n",
      " 31  2ndFlrSF       292 non-null    int64  \n",
      " 32  LowQualFinSF   292 non-null    int64  \n",
      " 33  GrLivArea      292 non-null    int64  \n",
      " 34  BsmtFullBath   292 non-null    int64  \n",
      " 35  BsmtHalfBath   292 non-null    int64  \n",
      " 36  FullBath       292 non-null    int64  \n",
      " 37  HalfBath       292 non-null    int64  \n",
      " 38  BedroomAbvGr   292 non-null    int64  \n",
      " 39  KitchenAbvGr   292 non-null    int64  \n",
      " 40  KitchenQual    292 non-null    float64\n",
      " 41  TotRmsAbvGrd   292 non-null    int64  \n",
      " 42  Fireplaces     292 non-null    int64  \n",
      " 43  GarageCars     292 non-null    int64  \n",
      " 44  GarageArea     292 non-null    int64  \n",
      " 45  PavedDrive     292 non-null    float64\n",
      " 46  WoodDeckSF     292 non-null    int64  \n",
      " 47  OpenPorchSF    292 non-null    int64  \n",
      " 48  EnclosedPorch  292 non-null    int64  \n",
      " 49  3SsnPorch      292 non-null    int64  \n",
      " 50  ScreenPorch    292 non-null    int64  \n",
      " 51  PoolArea       292 non-null    int64  \n",
      " 52  MiscVal        292 non-null    int64  \n",
      " 53  MoSold         292 non-null    int64  \n",
      " 54  YrSold         292 non-null    int64  \n",
      " 55  SaleType       292 non-null    float64\n",
      " 56  SaleCondition  292 non-null    float64\n",
      "dtypes: float64(24), int64(33)\n",
      "memory usage: 132.3 KB\n"
     ]
    },
    {
     "data": {
      "text/plain": [
       "(292, 57)"
      ]
     },
     "execution_count": 13,
     "metadata": {},
     "output_type": "execute_result"
    }
   ],
   "source": [
    "label_X_valid.info()\n",
    "label_X_valid.shape"
   ]
  },
  {
   "cell_type": "code",
   "execution_count": 14,
   "id": "2fcf117b",
   "metadata": {
    "execution": {
     "iopub.execute_input": "2021-08-19T15:04:39.781368Z",
     "iopub.status.busy": "2021-08-19T15:04:39.780726Z",
     "iopub.status.idle": "2021-08-19T15:04:39.785089Z",
     "shell.execute_reply": "2021-08-19T15:04:39.784464Z",
     "shell.execute_reply.started": "2021-08-19T15:00:37.307248Z"
    },
    "papermill": {
     "duration": 0.048579,
     "end_time": "2021-08-19T15:04:39.785287",
     "exception": false,
     "start_time": "2021-08-19T15:04:39.736708",
     "status": "completed"
    },
    "tags": []
   },
   "outputs": [
    {
     "data": {
      "text/plain": [
       "(1168, 57)"
      ]
     },
     "execution_count": 14,
     "metadata": {},
     "output_type": "execute_result"
    }
   ],
   "source": [
    "label_X_train.shape"
   ]
  },
  {
   "cell_type": "code",
   "execution_count": 15,
   "id": "aaf8ee54",
   "metadata": {
    "execution": {
     "iopub.execute_input": "2021-08-19T15:04:39.872310Z",
     "iopub.status.busy": "2021-08-19T15:04:39.871688Z",
     "iopub.status.idle": "2021-08-19T15:04:39.874234Z",
     "shell.execute_reply": "2021-08-19T15:04:39.873726Z"
    },
    "papermill": {
     "duration": 0.047479,
     "end_time": "2021-08-19T15:04:39.874356",
     "exception": false,
     "start_time": "2021-08-19T15:04:39.826877",
     "status": "completed"
    },
    "tags": []
   },
   "outputs": [],
   "source": [
    "# Lines below will give you a hint or solution code\n",
    "#step_2.b.hint()\n",
    "#step_2.b.solution()"
   ]
  },
  {
   "cell_type": "markdown",
   "id": "7318b39b",
   "metadata": {
    "papermill": {
     "duration": 0.039177,
     "end_time": "2021-08-19T15:04:39.952628",
     "exception": false,
     "start_time": "2021-08-19T15:04:39.913451",
     "status": "completed"
    },
    "tags": []
   },
   "source": [
    "Run the next code cell to get the MAE for this approach."
   ]
  },
  {
   "cell_type": "code",
   "execution_count": 16,
   "id": "1cbc930b",
   "metadata": {
    "execution": {
     "iopub.execute_input": "2021-08-19T15:04:40.037584Z",
     "iopub.status.busy": "2021-08-19T15:04:40.037026Z",
     "iopub.status.idle": "2021-08-19T15:04:41.442844Z",
     "shell.execute_reply": "2021-08-19T15:04:41.443284Z",
     "shell.execute_reply.started": "2021-08-19T15:00:40.922869Z"
    },
    "papermill": {
     "duration": 1.451479,
     "end_time": "2021-08-19T15:04:41.443434",
     "exception": false,
     "start_time": "2021-08-19T15:04:39.991955",
     "status": "completed"
    },
    "tags": []
   },
   "outputs": [
    {
     "name": "stdout",
     "output_type": "stream",
     "text": [
      "MAE from Approach 2 (Ordinal Encoding):\n",
      "17098.01649543379\n"
     ]
    }
   ],
   "source": [
    "print(\"MAE from Approach 2 (Ordinal Encoding):\") \n",
    "print(score_dataset(label_X_train, label_X_valid, y_train, y_valid))"
   ]
  },
  {
   "cell_type": "markdown",
   "id": "c52400cf",
   "metadata": {
    "papermill": {
     "duration": 0.039245,
     "end_time": "2021-08-19T15:04:41.523188",
     "exception": false,
     "start_time": "2021-08-19T15:04:41.483943",
     "status": "completed"
    },
    "tags": []
   },
   "source": [
    "So far, you've tried two different approaches to dealing with categorical variables.  And, you've seen that encoding categorical data yields better results than removing columns from the dataset.\n",
    "\n",
    "Soon, you'll try one-hot encoding.  Before then, there's one additional topic we need to cover.  Begin by running the next code cell without changes.  "
   ]
  },
  {
   "cell_type": "code",
   "execution_count": 17,
   "id": "c3c58a2d",
   "metadata": {
    "execution": {
     "iopub.execute_input": "2021-08-19T15:04:41.613089Z",
     "iopub.status.busy": "2021-08-19T15:04:41.609358Z",
     "iopub.status.idle": "2021-08-19T15:04:41.624534Z",
     "shell.execute_reply": "2021-08-19T15:04:41.624929Z",
     "shell.execute_reply.started": "2021-08-19T15:00:45.552951Z"
    },
    "papermill": {
     "duration": 0.06209,
     "end_time": "2021-08-19T15:04:41.625067",
     "exception": false,
     "start_time": "2021-08-19T15:04:41.562977",
     "status": "completed"
    },
    "tags": []
   },
   "outputs": [
    {
     "name": "stdout",
     "output_type": "stream",
     "text": [
      "{'Street': 2, 'Utilities': 2, 'CentralAir': 2, 'LandSlope': 3, 'PavedDrive': 3, 'LotShape': 4, 'LandContour': 4, 'ExterQual': 4, 'KitchenQual': 4, 'MSZoning': 5, 'LotConfig': 5, 'BldgType': 5, 'ExterCond': 5, 'HeatingQC': 5, 'Condition2': 6, 'RoofStyle': 6, 'Foundation': 6, 'Heating': 6, 'Functional': 6, 'SaleCondition': 6, 'RoofMatl': 7, 'HouseStyle': 8, 'Condition1': 9, 'SaleType': 9, 'Exterior1st': 15, 'Exterior2nd': 16, 'Neighborhood': 25}\n"
     ]
    },
    {
     "data": {
      "text/plain": [
       "3"
      ]
     },
     "execution_count": 17,
     "metadata": {},
     "output_type": "execute_result"
    }
   ],
   "source": [
    "# Get number of unique entries in each column with categorical data\n",
    "object_nunique = list(map(lambda col: X_train[col].nunique(), object_cols))\n",
    "d = dict(zip(object_cols, object_nunique))\n",
    "\n",
    "# Print number of unique entries by column, in ascending order\n",
    "unsort = sorted(d.items(), key=lambda x: x[1])\n",
    "sooo = dict(unsort)\n",
    "print(sooo)\n",
    "len({key: value for key,value in sooo.items() if value >10})"
   ]
  },
  {
   "cell_type": "markdown",
   "id": "5f727e1c",
   "metadata": {
    "papermill": {
     "duration": 0.042008,
     "end_time": "2021-08-19T15:04:41.707708",
     "exception": false,
     "start_time": "2021-08-19T15:04:41.665700",
     "status": "completed"
    },
    "tags": []
   },
   "source": [
    "# Step 3: Investigating cardinality\n",
    "\n",
    "### Part A\n",
    "\n",
    "The output above shows, for each column with categorical data, the number of unique values in the column.  For instance, the `'Street'` column in the training data has two unique values: `'Grvl'` and `'Pave'`, corresponding to a gravel road and a paved road, respectively.\n",
    "\n",
    "We refer to the number of unique entries of a categorical variable as the **cardinality** of that categorical variable.  For instance, the `'Street'` variable has cardinality 2.\n",
    "\n",
    "Use the output above to answer the questions below."
   ]
  },
  {
   "cell_type": "code",
   "execution_count": 18,
   "id": "30498437",
   "metadata": {
    "execution": {
     "iopub.execute_input": "2021-08-19T15:04:41.795806Z",
     "iopub.status.busy": "2021-08-19T15:04:41.794993Z",
     "iopub.status.idle": "2021-08-19T15:04:41.800345Z",
     "shell.execute_reply": "2021-08-19T15:04:41.800770Z",
     "shell.execute_reply.started": "2021-08-19T15:00:50.477635Z"
    },
    "papermill": {
     "duration": 0.051115,
     "end_time": "2021-08-19T15:04:41.800919",
     "exception": false,
     "start_time": "2021-08-19T15:04:41.749804",
     "status": "completed"
    },
    "tags": []
   },
   "outputs": [
    {
     "data": {
      "application/javascript": [
       "parent.postMessage({\"jupyterEvent\": \"custom.exercise_interaction\", \"data\": {\"outcomeType\": 1, \"valueTowardsCompletion\": 0.5, \"interactionType\": 1, \"questionType\": 1, \"questionId\": \"3.1_CardinalityA\", \"learnToolsVersion\": \"0.3.4\", \"failureMessage\": \"\", \"exceptionClass\": \"\", \"trace\": \"\"}}, \"*\")"
      ],
      "text/plain": [
       "<IPython.core.display.Javascript object>"
      ]
     },
     "metadata": {},
     "output_type": "display_data"
    },
    {
     "data": {
      "text/markdown": [
       "<span style=\"color:#33cc33\">Correct</span>"
      ],
      "text/plain": [
       "Correct"
      ]
     },
     "metadata": {},
     "output_type": "display_data"
    }
   ],
   "source": [
    "# Fill in the line below: How many categorical variables in the training data\n",
    "# have cardinality greater than 10?\n",
    "high_cardinality_numcols = 3\n",
    "\n",
    "# Fill in the line below: How many columns are needed to one-hot encode the \n",
    "# 'Neighborhood' variable in the training data?\n",
    "num_cols_neighborhood = 25\n",
    "\n",
    "# Check your answers\n",
    "step_3.a.check()"
   ]
  },
  {
   "cell_type": "code",
   "execution_count": 19,
   "id": "d7fd764b",
   "metadata": {
    "execution": {
     "iopub.execute_input": "2021-08-19T15:04:41.886457Z",
     "iopub.status.busy": "2021-08-19T15:04:41.885714Z",
     "iopub.status.idle": "2021-08-19T15:04:41.888459Z",
     "shell.execute_reply": "2021-08-19T15:04:41.888026Z"
    },
    "papermill": {
     "duration": 0.047034,
     "end_time": "2021-08-19T15:04:41.888569",
     "exception": false,
     "start_time": "2021-08-19T15:04:41.841535",
     "status": "completed"
    },
    "tags": []
   },
   "outputs": [],
   "source": [
    "# Lines below will give you a hint or solution code\n",
    "#step_3.a.hint()\n",
    "#step_3.a.solution()"
   ]
  },
  {
   "cell_type": "markdown",
   "id": "6b0b4865",
   "metadata": {
    "papermill": {
     "duration": 0.042708,
     "end_time": "2021-08-19T15:04:41.972227",
     "exception": false,
     "start_time": "2021-08-19T15:04:41.929519",
     "status": "completed"
    },
    "tags": []
   },
   "source": [
    "### Part B\n",
    "\n",
    "For large datasets with many rows, one-hot encoding can greatly expand the size of the dataset.  For this reason, we typically will only one-hot encode columns with relatively low cardinality.  Then, high cardinality columns can either be dropped from the dataset, or we can use ordinal encoding.\n",
    "\n",
    "As an example, consider a dataset with 10,000 rows, and containing one categorical column with 100 unique entries.  \n",
    "- If this column is replaced with the corresponding one-hot encoding, how many entries are added to the dataset?  \n",
    "- If we instead replace the column with the ordinal encoding, how many entries are added?  \n",
    "\n",
    "Use your answers to fill in the lines below."
   ]
  },
  {
   "cell_type": "code",
   "execution_count": 20,
   "id": "9a5991a4",
   "metadata": {
    "execution": {
     "iopub.execute_input": "2021-08-19T15:04:42.059122Z",
     "iopub.status.busy": "2021-08-19T15:04:42.058327Z",
     "iopub.status.idle": "2021-08-19T15:04:42.063631Z",
     "shell.execute_reply": "2021-08-19T15:04:42.063230Z",
     "shell.execute_reply.started": "2021-08-19T15:00:55.067446Z"
    },
    "papermill": {
     "duration": 0.051413,
     "end_time": "2021-08-19T15:04:42.063749",
     "exception": false,
     "start_time": "2021-08-19T15:04:42.012336",
     "status": "completed"
    },
    "tags": []
   },
   "outputs": [
    {
     "data": {
      "application/javascript": [
       "parent.postMessage({\"jupyterEvent\": \"custom.exercise_interaction\", \"data\": {\"outcomeType\": 1, \"valueTowardsCompletion\": 0.5, \"interactionType\": 1, \"questionType\": 1, \"questionId\": \"3.2_CardinalityB\", \"learnToolsVersion\": \"0.3.4\", \"failureMessage\": \"\", \"exceptionClass\": \"\", \"trace\": \"\"}}, \"*\")"
      ],
      "text/plain": [
       "<IPython.core.display.Javascript object>"
      ]
     },
     "metadata": {},
     "output_type": "display_data"
    },
    {
     "data": {
      "text/markdown": [
       "<span style=\"color:#33cc33\">Correct</span>"
      ],
      "text/plain": [
       "Correct"
      ]
     },
     "metadata": {},
     "output_type": "display_data"
    }
   ],
   "source": [
    "# Fill in the line below: How many entries are added to the dataset by \n",
    "# replacing the column with a one-hot encoding?\n",
    "OH_entries_added = 99*10000\n",
    "\n",
    "# Fill in the line below: How many entries are added to the dataset by\n",
    "# replacing the column with an ordinal encoding?\n",
    "label_entries_added = 0\n",
    "\n",
    "# Check your answers\n",
    "step_3.b.check()"
   ]
  },
  {
   "cell_type": "code",
   "execution_count": 21,
   "id": "59fe394f",
   "metadata": {
    "execution": {
     "iopub.execute_input": "2021-08-19T15:04:42.151384Z",
     "iopub.status.busy": "2021-08-19T15:04:42.150418Z",
     "iopub.status.idle": "2021-08-19T15:04:42.153321Z",
     "shell.execute_reply": "2021-08-19T15:04:42.152829Z"
    },
    "papermill": {
     "duration": 0.047898,
     "end_time": "2021-08-19T15:04:42.153456",
     "exception": false,
     "start_time": "2021-08-19T15:04:42.105558",
     "status": "completed"
    },
    "tags": []
   },
   "outputs": [],
   "source": [
    "# Lines below will give you a hint or solution code\n",
    "#step_3.b.hint()\n",
    "#step_3.b.solution()"
   ]
  },
  {
   "cell_type": "markdown",
   "id": "736f01b8",
   "metadata": {
    "papermill": {
     "duration": 0.041363,
     "end_time": "2021-08-19T15:04:42.236844",
     "exception": false,
     "start_time": "2021-08-19T15:04:42.195481",
     "status": "completed"
    },
    "tags": []
   },
   "source": [
    "Next, you'll experiment with one-hot encoding.  But, instead of encoding all of the categorical variables in the dataset, you'll only create a one-hot encoding for columns with cardinality less than 10.\n",
    "\n",
    "Run the code cell below without changes to set `low_cardinality_cols` to a Python list containing the columns that will be one-hot encoded.  Likewise, `high_cardinality_cols` contains a list of categorical columns that will be dropped from the dataset."
   ]
  },
  {
   "cell_type": "code",
   "execution_count": 22,
   "id": "34975c41",
   "metadata": {
    "execution": {
     "iopub.execute_input": "2021-08-19T15:04:42.332115Z",
     "iopub.status.busy": "2021-08-19T15:04:42.330350Z",
     "iopub.status.idle": "2021-08-19T15:04:42.344858Z",
     "shell.execute_reply": "2021-08-19T15:04:42.344368Z",
     "shell.execute_reply.started": "2021-08-19T15:00:59.899621Z"
    },
    "papermill": {
     "duration": 0.065161,
     "end_time": "2021-08-19T15:04:42.344983",
     "exception": false,
     "start_time": "2021-08-19T15:04:42.279822",
     "status": "completed"
    },
    "tags": []
   },
   "outputs": [
    {
     "name": "stdout",
     "output_type": "stream",
     "text": [
      "Categorical columns that will be one-hot encoded: ['MSZoning', 'Street', 'LotShape', 'LandContour', 'Utilities', 'LotConfig', 'LandSlope', 'Condition1', 'Condition2', 'BldgType', 'HouseStyle', 'RoofStyle', 'RoofMatl', 'ExterQual', 'ExterCond', 'Foundation', 'Heating', 'HeatingQC', 'CentralAir', 'KitchenQual', 'Functional', 'PavedDrive', 'SaleType', 'SaleCondition']\n",
      "\n",
      "Categorical columns that will be dropped from the dataset: ['Neighborhood', 'Exterior2nd', 'Exterior1st']\n"
     ]
    }
   ],
   "source": [
    "# Columns that will be one-hot encoded\n",
    "low_cardinality_cols = [col for col in object_cols if X_train[col].nunique() < 10]\n",
    "\n",
    "# Columns that will be dropped from the dataset\n",
    "high_cardinality_cols = list(set(object_cols)-set(low_cardinality_cols))\n",
    "\n",
    "print('Categorical columns that will be one-hot encoded:', low_cardinality_cols)\n",
    "print('\\nCategorical columns that will be dropped from the dataset:', high_cardinality_cols)"
   ]
  },
  {
   "cell_type": "markdown",
   "id": "eea533f8",
   "metadata": {
    "papermill": {
     "duration": 0.044587,
     "end_time": "2021-08-19T15:04:42.434172",
     "exception": false,
     "start_time": "2021-08-19T15:04:42.389585",
     "status": "completed"
    },
    "tags": []
   },
   "source": [
    "# Step 4: One-hot encoding\n",
    "\n",
    "Use the next code cell to one-hot encode the data in `X_train` and `X_valid`.  Set the preprocessed DataFrames to `OH_X_train` and `OH_X_valid`, respectively.  \n",
    "- The full list of categorical columns in the dataset can be found in the Python list `object_cols`.\n",
    "- You should only one-hot encode the categorical columns in `low_cardinality_cols`.  All other categorical columns should be dropped from the dataset. "
   ]
  },
  {
   "cell_type": "code",
   "execution_count": 23,
   "id": "d9f4c528",
   "metadata": {
    "execution": {
     "iopub.execute_input": "2021-08-19T15:04:42.544208Z",
     "iopub.status.busy": "2021-08-19T15:04:42.541941Z",
     "iopub.status.idle": "2021-08-19T15:04:42.572000Z",
     "shell.execute_reply": "2021-08-19T15:04:42.571491Z",
     "shell.execute_reply.started": "2021-08-19T15:01:04.687923Z"
    },
    "papermill": {
     "duration": 0.092292,
     "end_time": "2021-08-19T15:04:42.572147",
     "exception": false,
     "start_time": "2021-08-19T15:04:42.479855",
     "status": "completed"
    },
    "tags": []
   },
   "outputs": [
    {
     "data": {
      "application/javascript": [
       "parent.postMessage({\"jupyterEvent\": \"custom.exercise_interaction\", \"data\": {\"outcomeType\": 1, \"valueTowardsCompletion\": 0.5, \"interactionType\": 1, \"questionType\": 2, \"questionId\": \"4_OneHot\", \"learnToolsVersion\": \"0.3.4\", \"failureMessage\": \"\", \"exceptionClass\": \"\", \"trace\": \"\"}}, \"*\")"
      ],
      "text/plain": [
       "<IPython.core.display.Javascript object>"
      ]
     },
     "metadata": {},
     "output_type": "display_data"
    },
    {
     "data": {
      "text/markdown": [
       "<span style=\"color:#33cc33\">Correct</span>"
      ],
      "text/plain": [
       "Correct"
      ]
     },
     "metadata": {},
     "output_type": "display_data"
    }
   ],
   "source": [
    "from sklearn.preprocessing import OneHotEncoder\n",
    "\n",
    "# Apply one-hot encoder to each column with categorical data\n",
    "OH_encoder = OneHotEncoder(handle_unknown='ignore', sparse=False)\n",
    "OH_cols_train = pd.DataFrame(OH_encoder.fit_transform(X_train[low_cardinality_cols]))\n",
    "OH_cols_valid = pd.DataFrame(OH_encoder.transform(X_valid[low_cardinality_cols]))\n",
    "\n",
    "# One-hot encoding removed index; put it back\n",
    "OH_cols_train.index = X_train.index\n",
    "OH_cols_valid.index = X_valid.index\n",
    "\n",
    "# Remove categorical columns (will replace with one-hot encoding)\n",
    "num_X_train = X_train.drop(high_cardinality_cols, axis=1)\n",
    "num_X_valid = X_valid.drop(high_cardinality_cols, axis=1)\n",
    "num_X_train = num_X_train.drop(low_cardinality_cols, axis=1)\n",
    "num_X_valid = num_X_valid.drop(low_cardinality_cols, axis=1)\n",
    "# Add one-hot encoded columns to numerical features\n",
    "OH_X_train = pd.concat([num_X_train, OH_cols_train], axis=1)\n",
    "OH_X_valid = pd.concat([num_X_valid, OH_cols_valid], axis=1)\n",
    "# Check your answer\n",
    "step_4.check()"
   ]
  },
  {
   "cell_type": "code",
   "execution_count": null,
   "id": "a99b2496",
   "metadata": {
    "execution": {
     "iopub.execute_input": "2021-08-18T04:27:39.149952Z",
     "iopub.status.busy": "2021-08-18T04:27:39.149335Z",
     "iopub.status.idle": "2021-08-18T04:27:39.155637Z",
     "shell.execute_reply": "2021-08-18T04:27:39.154157Z",
     "shell.execute_reply.started": "2021-08-18T04:27:39.149912Z"
    },
    "papermill": {
     "duration": 0.04401,
     "end_time": "2021-08-19T15:04:42.660438",
     "exception": false,
     "start_time": "2021-08-19T15:04:42.616428",
     "status": "completed"
    },
    "tags": []
   },
   "outputs": [],
   "source": []
  },
  {
   "cell_type": "code",
   "execution_count": 24,
   "id": "751eb46f",
   "metadata": {
    "execution": {
     "iopub.execute_input": "2021-08-19T15:04:42.752891Z",
     "iopub.status.busy": "2021-08-19T15:04:42.751825Z",
     "iopub.status.idle": "2021-08-19T15:04:42.761093Z",
     "shell.execute_reply": "2021-08-19T15:04:42.760673Z",
     "shell.execute_reply.started": "2021-08-17T23:57:18.99002Z"
    },
    "papermill": {
     "duration": 0.057159,
     "end_time": "2021-08-19T15:04:42.761223",
     "exception": false,
     "start_time": "2021-08-19T15:04:42.704064",
     "status": "completed"
    },
    "tags": []
   },
   "outputs": [
    {
     "data": {
      "text/plain": [
       "MSSubClass     False\n",
       "LotArea        False\n",
       "OverallQual    False\n",
       "OverallCond    False\n",
       "YearBuilt      False\n",
       "               ...  \n",
       "117            False\n",
       "118            False\n",
       "119            False\n",
       "120            False\n",
       "121            False\n",
       "Length: 155, dtype: bool"
      ]
     },
     "execution_count": 24,
     "metadata": {},
     "output_type": "execute_result"
    }
   ],
   "source": [
    "pd.concat([OH_X_train, OH_X_valid], axis = 0).isnull().any()"
   ]
  },
  {
   "cell_type": "code",
   "execution_count": 25,
   "id": "575df40a",
   "metadata": {
    "execution": {
     "iopub.execute_input": "2021-08-19T15:04:42.854790Z",
     "iopub.status.busy": "2021-08-19T15:04:42.854241Z",
     "iopub.status.idle": "2021-08-19T15:04:42.858019Z",
     "shell.execute_reply": "2021-08-19T15:04:42.857500Z",
     "shell.execute_reply.started": "2021-08-19T09:01:14.026036Z"
    },
    "papermill": {
     "duration": 0.052016,
     "end_time": "2021-08-19T15:04:42.858175",
     "exception": false,
     "start_time": "2021-08-19T15:04:42.806159",
     "status": "completed"
    },
    "tags": []
   },
   "outputs": [
    {
     "name": "stdout",
     "output_type": "stream",
     "text": [
      "(1168, 155)\n",
      "(292, 155)\n",
      "(292, 60)\n"
     ]
    }
   ],
   "source": [
    "print(OH_X_train.shape)\n",
    "print(OH_X_valid.shape)\n",
    "print(X_valid.shape)"
   ]
  },
  {
   "cell_type": "code",
   "execution_count": 26,
   "id": "2d232528",
   "metadata": {
    "execution": {
     "iopub.execute_input": "2021-08-19T15:04:42.951116Z",
     "iopub.status.busy": "2021-08-19T15:04:42.950470Z",
     "iopub.status.idle": "2021-08-19T15:04:42.958419Z",
     "shell.execute_reply": "2021-08-19T15:04:42.957789Z",
     "shell.execute_reply.started": "2021-08-19T09:01:56.826108Z"
    },
    "papermill": {
     "duration": 0.0559,
     "end_time": "2021-08-19T15:04:42.958547",
     "exception": false,
     "start_time": "2021-08-19T15:04:42.902647",
     "status": "completed"
    },
    "tags": []
   },
   "outputs": [
    {
     "data": {
      "application/javascript": [
       "parent.postMessage({\"jupyterEvent\": \"custom.exercise_interaction\", \"data\": {\"interactionType\": 2, \"questionType\": 2, \"questionId\": \"4_OneHot\", \"learnToolsVersion\": \"0.3.4\", \"valueTowardsCompletion\": 0.0, \"failureMessage\": \"\", \"exceptionClass\": \"\", \"trace\": \"\", \"outcomeType\": 4}}, \"*\")"
      ],
      "text/plain": [
       "<IPython.core.display.Javascript object>"
      ]
     },
     "metadata": {},
     "output_type": "display_data"
    },
    {
     "data": {
      "text/markdown": [
       "<span style=\"color:#3366cc\">Hint:</span> Begin by applying the one-hot encoder to the low cardinality columns in the training and validation data in `X_train[low_cardinality_cols]` and `X_valid[low_cardinality_cols]`, respectively."
      ],
      "text/plain": [
       "Hint: Begin by applying the one-hot encoder to the low cardinality columns in the training and validation data in `X_train[low_cardinality_cols]` and `X_valid[low_cardinality_cols]`, respectively."
      ]
     },
     "metadata": {},
     "output_type": "display_data"
    },
    {
     "data": {
      "application/javascript": [
       "parent.postMessage({\"jupyterEvent\": \"custom.exercise_interaction\", \"data\": {\"interactionType\": 3, \"questionType\": 2, \"questionId\": \"4_OneHot\", \"learnToolsVersion\": \"0.3.4\", \"valueTowardsCompletion\": 0.0, \"failureMessage\": \"\", \"exceptionClass\": \"\", \"trace\": \"\", \"outcomeType\": 4}}, \"*\")"
      ],
      "text/plain": [
       "<IPython.core.display.Javascript object>"
      ]
     },
     "metadata": {},
     "output_type": "display_data"
    },
    {
     "data": {
      "text/markdown": [
       "<span style=\"color:#33cc99\">Solution:</span> \n",
       "```python\n",
       "# Apply one-hot encoder to each column with categorical data\n",
       "OH_encoder = OneHotEncoder(handle_unknown='ignore', sparse=False)\n",
       "OH_cols_train = pd.DataFrame(OH_encoder.fit_transform(X_train[low_cardinality_cols]))\n",
       "OH_cols_valid = pd.DataFrame(OH_encoder.transform(X_valid[low_cardinality_cols]))\n",
       "\n",
       "# One-hot encoding removed index; put it back\n",
       "OH_cols_train.index = X_train.index\n",
       "OH_cols_valid.index = X_valid.index\n",
       "\n",
       "# Remove categorical columns (will replace with one-hot encoding)\n",
       "num_X_train = X_train.drop(object_cols, axis=1)\n",
       "num_X_valid = X_valid.drop(object_cols, axis=1)\n",
       "\n",
       "# Add one-hot encoded columns to numerical features\n",
       "OH_X_train = pd.concat([num_X_train, OH_cols_train], axis=1)\n",
       "OH_X_valid = pd.concat([num_X_valid, OH_cols_valid], axis=1)\n",
       "\n",
       "\n",
       "```"
      ],
      "text/plain": [
       "Solution: \n",
       "```python\n",
       "# Apply one-hot encoder to each column with categorical data\n",
       "OH_encoder = OneHotEncoder(handle_unknown='ignore', sparse=False)\n",
       "OH_cols_train = pd.DataFrame(OH_encoder.fit_transform(X_train[low_cardinality_cols]))\n",
       "OH_cols_valid = pd.DataFrame(OH_encoder.transform(X_valid[low_cardinality_cols]))\n",
       "\n",
       "# One-hot encoding removed index; put it back\n",
       "OH_cols_train.index = X_train.index\n",
       "OH_cols_valid.index = X_valid.index\n",
       "\n",
       "# Remove categorical columns (will replace with one-hot encoding)\n",
       "num_X_train = X_train.drop(object_cols, axis=1)\n",
       "num_X_valid = X_valid.drop(object_cols, axis=1)\n",
       "\n",
       "# Add one-hot encoded columns to numerical features\n",
       "OH_X_train = pd.concat([num_X_train, OH_cols_train], axis=1)\n",
       "OH_X_valid = pd.concat([num_X_valid, OH_cols_valid], axis=1)\n",
       "\n",
       "\n",
       "```"
      ]
     },
     "metadata": {},
     "output_type": "display_data"
    }
   ],
   "source": [
    "# Lines below will give you a hint or solution code\n",
    "step_4.hint()\n",
    "step_4.solution()"
   ]
  },
  {
   "cell_type": "markdown",
   "id": "a01cab8e",
   "metadata": {
    "papermill": {
     "duration": 0.045737,
     "end_time": "2021-08-19T15:04:43.050917",
     "exception": false,
     "start_time": "2021-08-19T15:04:43.005180",
     "status": "completed"
    },
    "tags": []
   },
   "source": [
    "Run the next code cell to get the MAE for this approach."
   ]
  },
  {
   "cell_type": "code",
   "execution_count": 27,
   "id": "9c8779fd",
   "metadata": {
    "execution": {
     "iopub.execute_input": "2021-08-19T15:04:43.146685Z",
     "iopub.status.busy": "2021-08-19T15:04:43.146143Z",
     "iopub.status.idle": "2021-08-19T15:04:44.915538Z",
     "shell.execute_reply": "2021-08-19T15:04:44.915045Z",
     "shell.execute_reply.started": "2021-08-19T15:01:13.382474Z"
    },
    "papermill": {
     "duration": 1.819846,
     "end_time": "2021-08-19T15:04:44.915672",
     "exception": false,
     "start_time": "2021-08-19T15:04:43.095826",
     "status": "completed"
    },
    "tags": []
   },
   "outputs": [
    {
     "name": "stdout",
     "output_type": "stream",
     "text": [
      "MAE from Approach 3 (One-Hot Encoding):\n",
      "17525.345719178084\n"
     ]
    }
   ],
   "source": [
    "print(\"MAE from Approach 3 (One-Hot Encoding):\") \n",
    "print(score_dataset(OH_X_train, OH_X_valid, y_train, y_valid))"
   ]
  },
  {
   "cell_type": "markdown",
   "id": "eef2715a",
   "metadata": {
    "papermill": {
     "duration": 0.046501,
     "end_time": "2021-08-19T15:04:45.009598",
     "exception": false,
     "start_time": "2021-08-19T15:04:44.963097",
     "status": "completed"
    },
    "tags": []
   },
   "source": [
    "# Generate test predictions and submit your results\n",
    "\n",
    "After you complete Step 4, if you'd like to use what you've learned to submit your results to the leaderboard, you'll need to preprocess the test data before generating predictions.\n",
    "\n",
    "**This step is completely optional, and you do not need to submit results to the leaderboard to successfully complete the exercise.**\n",
    "\n",
    "Check out the previous exercise if you need help with remembering how to [join the competition](https://www.kaggle.com/c/home-data-for-ml-course) or save your results to CSV.  Once you have generated a file with your results, follow the instructions below:\n",
    "1. Begin by clicking on the **Save Version** button in the top right corner of the window.  This will generate a pop-up window.  \n",
    "2. Ensure that the **Save and Run All** option is selected, and then click on the **Save** button.\n",
    "3. This generates a window in the bottom left corner of the notebook.  After it has finished running, click on the number to the right of the **Save Version** button.  This pulls up a list of versions on the right of the screen.  Click on the ellipsis **(...)** to the right of the most recent version, and select **Open in Viewer**.  This brings you into view mode of the same page. You will need to scroll down to get back to these instructions.\n",
    "4. Click on the **Output** tab on the right of the screen.  Then, click on the file you would like to submit, and click on the blue **Submit** button to submit your results to the leaderboard.\n",
    "\n",
    "You have now successfully submitted to the competition!\n",
    "\n",
    "If you want to keep working to improve your performance, select the **Edit** button in the top right of the screen. Then you can change your code and repeat the process. There's a lot of room to improve, and you will climb up the leaderboard as you work.\n"
   ]
  },
  {
   "cell_type": "code",
   "execution_count": 28,
   "id": "6883e5c9",
   "metadata": {
    "execution": {
     "iopub.execute_input": "2021-08-19T15:04:45.112338Z",
     "iopub.status.busy": "2021-08-19T15:04:45.111643Z",
     "iopub.status.idle": "2021-08-19T15:04:46.877017Z",
     "shell.execute_reply": "2021-08-19T15:04:46.877855Z",
     "shell.execute_reply.started": "2021-08-19T15:03:58.341907Z"
    },
    "papermill": {
     "duration": 1.820303,
     "end_time": "2021-08-19T15:04:46.878068",
     "exception": false,
     "start_time": "2021-08-19T15:04:45.057765",
     "status": "completed"
    },
    "tags": []
   },
   "outputs": [
    {
     "name": "stdout",
     "output_type": "stream",
     "text": [
      "MAE (Your approach):\n",
      "17525.345719178084\n"
     ]
    }
   ],
   "source": [
    "# Define and fit model\n",
    "from sklearn.impute import SimpleImputer\n",
    "from sklearn.ensemble import RandomForestRegressor\n",
    "my_imputer = SimpleImputer()\n",
    "obcv = [col for col in OH_X_train.columns if OH_X_train[col].dtype == \"object\"]\n",
    "obcv2 = [col for col in X_test.columns if X_test[col].dtype == \"object\"]\n",
    "OH_X_train = OH_X_train.drop(obcv, axis=1)\n",
    "X_test = X_test.drop(obcv2, axis=1)\n",
    "imputed_X_train = pd.DataFrame(my_imputer.fit_transform(OH_X_train))\n",
    "imputed_X_valid = pd.DataFrame(my_imputer.transform(OH_X_valid))\n",
    "imputed_X_train.columns = OH_X_train.columns\n",
    "imputed_X_valid.columns = OH_X_valid.columns\n",
    "model = RandomForestRegressor(n_estimators=100, random_state=0)\n",
    "model.fit(imputed_X_train, y_train)\n",
    "\n",
    "# Get validation predictions and MAE\n",
    "#obj_c = [col for col in imputed_X_test.columns if imputed_X_test[col].dtype==\"object\"]\n",
    "#imputed_X_test = imputed_X_test.drop(obj_c, axis=1)\n",
    "preds_valid = pd.DataFrame(model.predict(imputed_X_valid))\n",
    "\n",
    "print(\"MAE (Your approach):\")\n",
    "print(mean_absolute_error(y_valid, preds_valid))"
   ]
  },
  {
   "cell_type": "code",
   "execution_count": 29,
   "id": "78ec5ce8",
   "metadata": {
    "execution": {
     "iopub.execute_input": "2021-08-19T15:04:46.985131Z",
     "iopub.status.busy": "2021-08-19T15:04:46.984563Z",
     "iopub.status.idle": "2021-08-19T15:04:46.988988Z",
     "shell.execute_reply": "2021-08-19T15:04:46.989466Z",
     "shell.execute_reply.started": "2021-08-19T09:03:28.373157Z"
    },
    "papermill": {
     "duration": 0.06305,
     "end_time": "2021-08-19T15:04:46.989632",
     "exception": false,
     "start_time": "2021-08-19T15:04:46.926582",
     "status": "completed"
    },
    "tags": []
   },
   "outputs": [
    {
     "data": {
      "text/html": [
       "<div>\n",
       "<style scoped>\n",
       "    .dataframe tbody tr th:only-of-type {\n",
       "        vertical-align: middle;\n",
       "    }\n",
       "\n",
       "    .dataframe tbody tr th {\n",
       "        vertical-align: top;\n",
       "    }\n",
       "\n",
       "    .dataframe thead th {\n",
       "        text-align: right;\n",
       "    }\n",
       "</style>\n",
       "<table border=\"1\" class=\"dataframe\">\n",
       "  <thead>\n",
       "    <tr style=\"text-align: right;\">\n",
       "      <th></th>\n",
       "      <th>0</th>\n",
       "    </tr>\n",
       "  </thead>\n",
       "  <tbody>\n",
       "    <tr>\n",
       "      <th>0</th>\n",
       "      <td>215238.76</td>\n",
       "    </tr>\n",
       "    <tr>\n",
       "      <th>1</th>\n",
       "      <td>149770.50</td>\n",
       "    </tr>\n",
       "    <tr>\n",
       "      <th>2</th>\n",
       "      <td>108825.36</td>\n",
       "    </tr>\n",
       "    <tr>\n",
       "      <th>3</th>\n",
       "      <td>223656.54</td>\n",
       "    </tr>\n",
       "    <tr>\n",
       "      <th>4</th>\n",
       "      <td>91486.97</td>\n",
       "    </tr>\n",
       "    <tr>\n",
       "      <th>...</th>\n",
       "      <td>...</td>\n",
       "    </tr>\n",
       "    <tr>\n",
       "      <th>287</th>\n",
       "      <td>297744.99</td>\n",
       "    </tr>\n",
       "    <tr>\n",
       "      <th>288</th>\n",
       "      <td>439145.19</td>\n",
       "    </tr>\n",
       "    <tr>\n",
       "      <th>289</th>\n",
       "      <td>159815.00</td>\n",
       "    </tr>\n",
       "    <tr>\n",
       "      <th>290</th>\n",
       "      <td>80986.90</td>\n",
       "    </tr>\n",
       "    <tr>\n",
       "      <th>291</th>\n",
       "      <td>88668.98</td>\n",
       "    </tr>\n",
       "  </tbody>\n",
       "</table>\n",
       "<p>292 rows × 1 columns</p>\n",
       "</div>"
      ],
      "text/plain": [
       "             0\n",
       "0    215238.76\n",
       "1    149770.50\n",
       "2    108825.36\n",
       "3    223656.54\n",
       "4     91486.97\n",
       "..         ...\n",
       "287  297744.99\n",
       "288  439145.19\n",
       "289  159815.00\n",
       "290   80986.90\n",
       "291   88668.98\n",
       "\n",
       "[292 rows x 1 columns]"
      ]
     },
     "execution_count": 29,
     "metadata": {},
     "output_type": "execute_result"
    }
   ],
   "source": [
    "preds_valid"
   ]
  },
  {
   "cell_type": "code",
   "execution_count": 30,
   "id": "86a5c8bc",
   "metadata": {
    "execution": {
     "iopub.execute_input": "2021-08-19T15:04:47.100383Z",
     "iopub.status.busy": "2021-08-19T15:04:47.099747Z",
     "iopub.status.idle": "2021-08-19T15:04:47.102097Z",
     "shell.execute_reply": "2021-08-19T15:04:47.102782Z",
     "shell.execute_reply.started": "2021-08-19T15:03:11.675539Z"
    },
    "papermill": {
     "duration": 0.06615,
     "end_time": "2021-08-19T15:04:47.102961",
     "exception": false,
     "start_time": "2021-08-19T15:04:47.036811",
     "status": "completed"
    },
    "tags": []
   },
   "outputs": [
    {
     "name": "stdout",
     "output_type": "stream",
     "text": [
      "(1168, 155)\n",
      "[]\n",
      "<class 'pandas.core.frame.DataFrame'>\n",
      "RangeIndex: 1168 entries, 0 to 1167\n",
      "Columns: 155 entries, MSSubClass to 121\n",
      "dtypes: float64(155)\n",
      "memory usage: 1.4 MB\n",
      "None\n"
     ]
    }
   ],
   "source": [
    "print(OH_X_train.shape)\n",
    "obj_c = [col for col in X_test.columns if X_test[col].dtype==\"object\"]\n",
    "print(obj_c)\n",
    "print(imputed_X_train.info())"
   ]
  },
  {
   "cell_type": "code",
   "execution_count": 31,
   "id": "ee69a3c8",
   "metadata": {
    "execution": {
     "iopub.execute_input": "2021-08-19T15:04:47.200999Z",
     "iopub.status.busy": "2021-08-19T15:04:47.200378Z",
     "iopub.status.idle": "2021-08-19T15:04:47.207611Z",
     "shell.execute_reply": "2021-08-19T15:04:47.207141Z",
     "shell.execute_reply.started": "2021-08-18T04:39:14.53512Z"
    },
    "papermill": {
     "duration": 0.057365,
     "end_time": "2021-08-19T15:04:47.207744",
     "exception": false,
     "start_time": "2021-08-19T15:04:47.150379",
     "status": "completed"
    },
    "tags": []
   },
   "outputs": [
    {
     "data": {
      "text/plain": [
       "0      215238.76\n",
       "1      149770.50\n",
       "2      108825.36\n",
       "3      223656.54\n",
       "4       91486.97\n",
       "         ...    \n",
       "287    297744.99\n",
       "288    439145.19\n",
       "289    159815.00\n",
       "290     80986.90\n",
       "291     88668.98\n",
       "Name: 0, Length: 292, dtype: float64"
      ]
     },
     "execution_count": 31,
     "metadata": {},
     "output_type": "execute_result"
    }
   ],
   "source": [
    "pd.DataFrame(preds_valid.values).loc[:,0]"
   ]
  },
  {
   "cell_type": "code",
   "execution_count": 32,
   "id": "302a3395",
   "metadata": {
    "execution": {
     "iopub.execute_input": "2021-08-19T15:04:47.307091Z",
     "iopub.status.busy": "2021-08-19T15:04:47.306399Z",
     "iopub.status.idle": "2021-08-19T15:04:47.310179Z",
     "shell.execute_reply": "2021-08-19T15:04:47.309421Z",
     "shell.execute_reply.started": "2021-08-19T15:01:53.204017Z"
    },
    "papermill": {
     "duration": 0.055468,
     "end_time": "2021-08-19T15:04:47.310345",
     "exception": false,
     "start_time": "2021-08-19T15:04:47.254877",
     "status": "completed"
    },
    "tags": []
   },
   "outputs": [
    {
     "name": "stdout",
     "output_type": "stream",
     "text": [
      "(292, 60)\n",
      "(1168, 60)\n"
     ]
    }
   ],
   "source": [
    "print(X_valid.shape)\n",
    "print(X_train.shape)"
   ]
  },
  {
   "cell_type": "code",
   "execution_count": 33,
   "id": "8b3432be",
   "metadata": {
    "execution": {
     "iopub.execute_input": "2021-08-19T15:04:47.410696Z",
     "iopub.status.busy": "2021-08-19T15:04:47.410069Z",
     "iopub.status.idle": "2021-08-19T15:04:47.416730Z",
     "shell.execute_reply": "2021-08-19T15:04:47.416216Z",
     "shell.execute_reply.started": "2021-08-19T15:04:09.436456Z"
    },
    "papermill": {
     "duration": 0.05909,
     "end_time": "2021-08-19T15:04:47.416843",
     "exception": false,
     "start_time": "2021-08-19T15:04:47.357753",
     "status": "completed"
    },
    "tags": []
   },
   "outputs": [],
   "source": [
    "# Save test predictions to file\n",
    "output = pd.DataFrame({'Id': preds_valid.index,\n",
    "                       'SalePrice': pd.DataFrame(preds_valid.values).loc[:,0]})\n",
    "output.to_csv('submission2.csv', index=False)"
   ]
  },
  {
   "cell_type": "markdown",
   "id": "5fb67241",
   "metadata": {
    "papermill": {
     "duration": 0.048533,
     "end_time": "2021-08-19T15:04:47.513182",
     "exception": false,
     "start_time": "2021-08-19T15:04:47.464649",
     "status": "completed"
    },
    "tags": []
   },
   "source": [
    "# Keep going\n",
    "\n",
    "With missing value handling and categorical encoding, your modeling process is getting complex. This complexity gets worse when you want to save your model to use in the future. The key to managing this complexity is something called **pipelines**. \n",
    "\n",
    "**[Learn to use pipelines](https://www.kaggle.com/alexisbcook/pipelines)** to preprocess datasets with categorical variables, missing values and any other messiness your data throws at you."
   ]
  },
  {
   "cell_type": "markdown",
   "id": "071431dd",
   "metadata": {
    "papermill": {
     "duration": 0.0483,
     "end_time": "2021-08-19T15:04:47.610616",
     "exception": false,
     "start_time": "2021-08-19T15:04:47.562316",
     "status": "completed"
    },
    "tags": []
   },
   "source": [
    "---\n",
    "\n",
    "\n",
    "\n",
    "\n",
    "*Have questions or comments? Visit the [Learn Discussion forum](https://www.kaggle.com/learn-forum/161289) to chat with other Learners.*"
   ]
  }
 ],
 "metadata": {
  "kernelspec": {
   "display_name": "Python 3",
   "language": "python",
   "name": "python3"
  },
  "language_info": {
   "codemirror_mode": {
    "name": "ipython",
    "version": 3
   },
   "file_extension": ".py",
   "mimetype": "text/x-python",
   "name": "python",
   "nbconvert_exporter": "python",
   "pygments_lexer": "ipython3",
   "version": "3.7.10"
  },
  "papermill": {
   "default_parameters": {},
   "duration": 20.775123,
   "end_time": "2021-08-19T15:04:48.971549",
   "environment_variables": {},
   "exception": null,
   "input_path": "__notebook__.ipynb",
   "output_path": "__notebook__.ipynb",
   "parameters": {},
   "start_time": "2021-08-19T15:04:28.196426",
   "version": "2.3.3"
  }
 },
 "nbformat": 4,
 "nbformat_minor": 5
}
